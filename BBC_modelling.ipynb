{
 "cells": [
  {
   "cell_type": "code",
   "execution_count": 2,
   "metadata": {},
   "outputs": [
    {
     "data": {
      "text/html": [
       "<div>\n",
       "<style>\n",
       "    .dataframe thead tr:only-child th {\n",
       "        text-align: right;\n",
       "    }\n",
       "\n",
       "    .dataframe thead th {\n",
       "        text-align: left;\n",
       "    }\n",
       "\n",
       "    .dataframe tbody tr th {\n",
       "        vertical-align: top;\n",
       "    }\n",
       "</style>\n",
       "<table border=\"1\" class=\"dataframe\">\n",
       "  <thead>\n",
       "    <tr style=\"text-align: right;\">\n",
       "      <th></th>\n",
       "      <th>ArticleId</th>\n",
       "      <th>Text</th>\n",
       "      <th>Category</th>\n",
       "    </tr>\n",
       "  </thead>\n",
       "  <tbody>\n",
       "    <tr>\n",
       "      <th>0</th>\n",
       "      <td>1833</td>\n",
       "      <td>worldcom ex-boss launches defence lawyers defe...</td>\n",
       "      <td>business</td>\n",
       "    </tr>\n",
       "    <tr>\n",
       "      <th>1</th>\n",
       "      <td>154</td>\n",
       "      <td>german business confidence slides german busin...</td>\n",
       "      <td>business</td>\n",
       "    </tr>\n",
       "    <tr>\n",
       "      <th>2</th>\n",
       "      <td>1101</td>\n",
       "      <td>bbc poll indicates economic gloom citizens in ...</td>\n",
       "      <td>business</td>\n",
       "    </tr>\n",
       "    <tr>\n",
       "      <th>3</th>\n",
       "      <td>1976</td>\n",
       "      <td>lifestyle  governs mobile choice  faster  bett...</td>\n",
       "      <td>tech</td>\n",
       "    </tr>\n",
       "    <tr>\n",
       "      <th>4</th>\n",
       "      <td>917</td>\n",
       "      <td>enron bosses in $168m payout eighteen former e...</td>\n",
       "      <td>business</td>\n",
       "    </tr>\n",
       "  </tbody>\n",
       "</table>\n",
       "</div>"
      ],
      "text/plain": [
       "   ArticleId                                               Text  Category\n",
       "0       1833  worldcom ex-boss launches defence lawyers defe...  business\n",
       "1        154  german business confidence slides german busin...  business\n",
       "2       1101  bbc poll indicates economic gloom citizens in ...  business\n",
       "3       1976  lifestyle  governs mobile choice  faster  bett...      tech\n",
       "4        917  enron bosses in $168m payout eighteen former e...  business"
      ]
     },
     "execution_count": 2,
     "metadata": {},
     "output_type": "execute_result"
    }
   ],
   "source": [
    "#Load the data using pandas : Create a DataFrame named df, that contains the training data \n",
    "import pandas as pd\n",
    "df = pd.read_csv('BBC News Train.csv')\n",
    "df.head()"
   ]
  },
  {
   "cell_type": "code",
   "execution_count": 3,
   "metadata": {},
   "outputs": [
    {
     "data": {
      "text/plain": [
       "0    0\n",
       "1    0\n",
       "2    0\n",
       "3    1\n",
       "4    0\n",
       "5    2\n",
       "6    3\n",
       "7    4\n",
       "8    0\n",
       "9    4\n",
       "Name: category_id, dtype: int64"
      ]
     },
     "execution_count": 3,
     "metadata": {},
     "output_type": "execute_result"
    }
   ],
   "source": [
    "# Associate Category names with numerical index and save it in new column category_id\n",
    "df['category_id'] = df['Category'].factorize()[0]\n",
    "\n",
    "#View first 10 entries of category_id, as a sanity check\n",
    "df['category_id'][0:10]"
   ]
  },
  {
   "cell_type": "code",
   "execution_count": 4,
   "metadata": {},
   "outputs": [
    {
     "data": {
      "text/html": [
       "<div>\n",
       "<style>\n",
       "    .dataframe thead tr:only-child th {\n",
       "        text-align: right;\n",
       "    }\n",
       "\n",
       "    .dataframe thead th {\n",
       "        text-align: left;\n",
       "    }\n",
       "\n",
       "    .dataframe tbody tr th {\n",
       "        vertical-align: top;\n",
       "    }\n",
       "</style>\n",
       "<table border=\"1\" class=\"dataframe\">\n",
       "  <thead>\n",
       "    <tr style=\"text-align: right;\">\n",
       "      <th></th>\n",
       "      <th>ArticleId</th>\n",
       "      <th>Text</th>\n",
       "      <th>Category</th>\n",
       "      <th>category_id</th>\n",
       "    </tr>\n",
       "  </thead>\n",
       "  <tbody>\n",
       "    <tr>\n",
       "      <th>0</th>\n",
       "      <td>1833</td>\n",
       "      <td>worldcom ex-boss launches defence lawyers defe...</td>\n",
       "      <td>business</td>\n",
       "      <td>0</td>\n",
       "    </tr>\n",
       "    <tr>\n",
       "      <th>1</th>\n",
       "      <td>154</td>\n",
       "      <td>german business confidence slides german busin...</td>\n",
       "      <td>business</td>\n",
       "      <td>0</td>\n",
       "    </tr>\n",
       "    <tr>\n",
       "      <th>2</th>\n",
       "      <td>1101</td>\n",
       "      <td>bbc poll indicates economic gloom citizens in ...</td>\n",
       "      <td>business</td>\n",
       "      <td>0</td>\n",
       "    </tr>\n",
       "    <tr>\n",
       "      <th>3</th>\n",
       "      <td>1976</td>\n",
       "      <td>lifestyle  governs mobile choice  faster  bett...</td>\n",
       "      <td>tech</td>\n",
       "      <td>1</td>\n",
       "    </tr>\n",
       "    <tr>\n",
       "      <th>4</th>\n",
       "      <td>917</td>\n",
       "      <td>enron bosses in $168m payout eighteen former e...</td>\n",
       "      <td>business</td>\n",
       "      <td>0</td>\n",
       "    </tr>\n",
       "  </tbody>\n",
       "</table>\n",
       "</div>"
      ],
      "text/plain": [
       "   ArticleId                                               Text  Category  \\\n",
       "0       1833  worldcom ex-boss launches defence lawyers defe...  business   \n",
       "1        154  german business confidence slides german busin...  business   \n",
       "2       1101  bbc poll indicates economic gloom citizens in ...  business   \n",
       "3       1976  lifestyle  governs mobile choice  faster  bett...      tech   \n",
       "4        917  enron bosses in $168m payout eighteen former e...  business   \n",
       "\n",
       "   category_id  \n",
       "0            0  \n",
       "1            0  \n",
       "2            0  \n",
       "3            1  \n",
       "4            0  "
      ]
     },
     "execution_count": 4,
     "metadata": {},
     "output_type": "execute_result"
    }
   ],
   "source": [
    "df.head()"
   ]
  },
  {
   "cell_type": "code",
   "execution_count": 5,
   "metadata": {
    "collapsed": true
   },
   "outputs": [],
   "source": [
    "# Create a new pandas dataframe \"category_id_df\", which only has unique Categories, also sorting this list in order of category_id values\n",
    "category_id_df = df[['Category', 'category_id']].drop_duplicates().sort_values('category_id')"
   ]
  },
  {
   "cell_type": "code",
   "execution_count": 6,
   "metadata": {},
   "outputs": [
    {
     "data": {
      "text/html": [
       "<div>\n",
       "<style>\n",
       "    .dataframe thead tr:only-child th {\n",
       "        text-align: right;\n",
       "    }\n",
       "\n",
       "    .dataframe thead th {\n",
       "        text-align: left;\n",
       "    }\n",
       "\n",
       "    .dataframe tbody tr th {\n",
       "        vertical-align: top;\n",
       "    }\n",
       "</style>\n",
       "<table border=\"1\" class=\"dataframe\">\n",
       "  <thead>\n",
       "    <tr style=\"text-align: right;\">\n",
       "      <th></th>\n",
       "      <th>Category</th>\n",
       "      <th>category_id</th>\n",
       "    </tr>\n",
       "  </thead>\n",
       "  <tbody>\n",
       "    <tr>\n",
       "      <th>0</th>\n",
       "      <td>business</td>\n",
       "      <td>0</td>\n",
       "    </tr>\n",
       "    <tr>\n",
       "      <th>3</th>\n",
       "      <td>tech</td>\n",
       "      <td>1</td>\n",
       "    </tr>\n",
       "    <tr>\n",
       "      <th>5</th>\n",
       "      <td>politics</td>\n",
       "      <td>2</td>\n",
       "    </tr>\n",
       "    <tr>\n",
       "      <th>6</th>\n",
       "      <td>sport</td>\n",
       "      <td>3</td>\n",
       "    </tr>\n",
       "    <tr>\n",
       "      <th>7</th>\n",
       "      <td>entertainment</td>\n",
       "      <td>4</td>\n",
       "    </tr>\n",
       "  </tbody>\n",
       "</table>\n",
       "</div>"
      ],
      "text/plain": [
       "        Category  category_id\n",
       "0       business            0\n",
       "3           tech            1\n",
       "5       politics            2\n",
       "6          sport            3\n",
       "7  entertainment            4"
      ]
     },
     "execution_count": 6,
     "metadata": {},
     "output_type": "execute_result"
    }
   ],
   "source": [
    "category_id_df"
   ]
  },
  {
   "cell_type": "code",
   "execution_count": 7,
   "metadata": {
    "collapsed": true
   },
   "outputs": [],
   "source": [
    "# Create a dictionary ( python datastructure - like a lookup table) that \n",
    "# can easily convert category names into category_ids and vice-versa\n",
    "category_to_id = dict(category_id_df.values)\n",
    "id_to_category = dict(category_id_df[['category_id', 'Category']].values)"
   ]
  },
  {
   "cell_type": "code",
   "execution_count": 8,
   "metadata": {},
   "outputs": [
    {
     "data": {
      "text/plain": [
       "{0: 'business', 1: 'tech', 2: 'politics', 3: 'sport', 4: 'entertainment'}"
      ]
     },
     "execution_count": 8,
     "metadata": {},
     "output_type": "execute_result"
    }
   ],
   "source": [
    "id_to_category"
   ]
  },
  {
   "cell_type": "code",
   "execution_count": 9,
   "metadata": {},
   "outputs": [
    {
     "data": {
      "text/html": [
       "<div>\n",
       "<style>\n",
       "    .dataframe thead tr:only-child th {\n",
       "        text-align: right;\n",
       "    }\n",
       "\n",
       "    .dataframe thead th {\n",
       "        text-align: left;\n",
       "    }\n",
       "\n",
       "    .dataframe tbody tr th {\n",
       "        vertical-align: top;\n",
       "    }\n",
       "</style>\n",
       "<table border=\"1\" class=\"dataframe\">\n",
       "  <thead>\n",
       "    <tr style=\"text-align: right;\">\n",
       "      <th></th>\n",
       "      <th>ArticleId</th>\n",
       "      <th>Text</th>\n",
       "      <th>Category</th>\n",
       "      <th>category_id</th>\n",
       "    </tr>\n",
       "  </thead>\n",
       "  <tbody>\n",
       "    <tr>\n",
       "      <th>9</th>\n",
       "      <td>1866</td>\n",
       "      <td>fockers fuel festive film chart comedy meet th...</td>\n",
       "      <td>entertainment</td>\n",
       "      <td>4</td>\n",
       "    </tr>\n",
       "    <tr>\n",
       "      <th>354</th>\n",
       "      <td>1349</td>\n",
       "      <td>tory candidate quits over remark a conservativ...</td>\n",
       "      <td>politics</td>\n",
       "      <td>2</td>\n",
       "    </tr>\n",
       "    <tr>\n",
       "      <th>1227</th>\n",
       "      <td>1572</td>\n",
       "      <td>bath faced with tindall ultimatum mike tindall...</td>\n",
       "      <td>sport</td>\n",
       "      <td>3</td>\n",
       "    </tr>\n",
       "    <tr>\n",
       "      <th>907</th>\n",
       "      <td>1155</td>\n",
       "      <td>chancellor rallies labour voters gordon brown ...</td>\n",
       "      <td>politics</td>\n",
       "      <td>2</td>\n",
       "    </tr>\n",
       "    <tr>\n",
       "      <th>575</th>\n",
       "      <td>307</td>\n",
       "      <td>young debut cut short by ginepri fifteen-year-...</td>\n",
       "      <td>sport</td>\n",
       "      <td>3</td>\n",
       "    </tr>\n",
       "  </tbody>\n",
       "</table>\n",
       "</div>"
      ],
      "text/plain": [
       "      ArticleId                                               Text  \\\n",
       "9          1866  fockers fuel festive film chart comedy meet th...   \n",
       "354        1349  tory candidate quits over remark a conservativ...   \n",
       "1227       1572  bath faced with tindall ultimatum mike tindall...   \n",
       "907        1155  chancellor rallies labour voters gordon brown ...   \n",
       "575         307  young debut cut short by ginepri fifteen-year-...   \n",
       "\n",
       "           Category  category_id  \n",
       "9     entertainment            4  \n",
       "354        politics            2  \n",
       "1227          sport            3  \n",
       "907        politics            2  \n",
       "575           sport            3  "
      ]
     },
     "execution_count": 9,
     "metadata": {},
     "output_type": "execute_result"
    }
   ],
   "source": [
    "# Pick 5 random samples from the dataframe\n",
    "df.sample(5, random_state=0)"
   ]
  },
  {
   "cell_type": "code",
   "execution_count": 10,
   "metadata": {},
   "outputs": [
    {
     "data": {
      "text/plain": [
       "Category\n",
       "business         336\n",
       "entertainment    273\n",
       "politics         274\n",
       "sport            346\n",
       "tech             261\n",
       "Name: category_id, dtype: int64"
      ]
     },
     "execution_count": 10,
     "metadata": {},
     "output_type": "execute_result"
    }
   ],
   "source": [
    "# Group the dataframe by categories and count items ( number of news articles) in each category\n",
    "df.groupby('Category').category_id.count()"
   ]
  },
  {
   "cell_type": "code",
   "execution_count": 12,
   "metadata": {},
   "outputs": [
    {
     "data": {
      "text/plain": [
       "<matplotlib.axes._subplots.AxesSubplot at 0x7f6180cd7588>"
      ]
     },
     "execution_count": 12,
     "metadata": {},
     "output_type": "execute_result"
    },
    {
     "data": {
      "image/png": "[encoded data removed]",
      "text/plain": [
       "<matplotlib.figure.Figure at 0x7f6180cd1cf8>"
      ]
     },
     "metadata": {},
     "output_type": "display_data"
    }
   ],
   "source": [
    "#Plot the distribution of news articles by category\n",
    "%matplotlib inline\n",
    "df.groupby('Category').category_id.count().plot.bar(ylim=0)"
   ]
  },
  {
   "cell_type": "code",
   "execution_count": 13,
   "metadata": {
    "collapsed": true
   },
   "outputs": [],
   "source": [
    "from sklearn.feature_extraction.text import TfidfVectorizer\n",
    "\n",
    "tfidf = TfidfVectorizer(sublinear_tf=True, min_df=5, norm='l2', encoding='latin-1', ngram_range=(1, 2), stop_words='english')\n",
    "\n",
    "features = tfidf.fit_transform(df.Text).toarray() # Remaps the words in the 1490 articles in the text column of \n",
    "                                                  # data frame into features (superset of words) with an importance assigned \n",
    "                                                  # based on each words frequency in the document and across documents\n",
    "\n",
    "labels = df.category_id                           # represents the category of each of the 1490 articles"
   ]
  },
  {
   "cell_type": "code",
   "execution_count": 14,
   "metadata": {},
   "outputs": [
    {
     "data": {
      "text/plain": [
       "(1490, 9927)"
      ]
     },
     "execution_count": 14,
     "metadata": {},
     "output_type": "execute_result"
    }
   ],
   "source": [
    "#Get a feel of the features identified by tfidf\n",
    "features.shape # How many features are there ? "
   ]
  },
  {
   "cell_type": "code",
   "execution_count": 15,
   "metadata": {},
   "outputs": [
    {
     "data": {
      "text/plain": [
       "dict_items([('business', 0), ('tech', 1), ('politics', 2), ('sport', 3), ('entertainment', 4)])"
      ]
     },
     "execution_count": 15,
     "metadata": {},
     "output_type": "execute_result"
    }
   ],
   "source": [
    "# Remember the dictionary created to map category names to a number ? \n",
    "category_to_id.items()"
   ]
  },
  {
   "cell_type": "code",
   "execution_count": 16,
   "metadata": {},
   "outputs": [
    {
     "data": {
      "text/plain": [
       "[('business', 0),\n",
       " ('entertainment', 4),\n",
       " ('politics', 2),\n",
       " ('sport', 3),\n",
       " ('tech', 1)]"
      ]
     },
     "execution_count": 16,
     "metadata": {},
     "output_type": "execute_result"
    }
   ],
   "source": [
    "# The sorted function Converts dictionary items into a (sorted) list. \n",
    "# In subsequent steps - We will use this list to iterate over the categories\n",
    "sorted(category_to_id.items())"
   ]
  },
  {
   "cell_type": "code",
   "execution_count": 18,
   "metadata": {},
   "outputs": [
    {
     "name": "stdout",
     "output_type": "stream",
     "text": [
      "# 'business':\n",
      "  . Most correlated unigrams:\n",
      "       . growth\n",
      "       . bank\n",
      "       . shares\n",
      "  . Most correlated bigrams:\n",
      "       . stock market\n",
      "       . economic growth\n",
      "       . analysts said\n",
      "# 'entertainment':\n",
      "  . Most correlated unigrams:\n",
      "       . singer\n",
      "       . actor\n",
      "       . film\n",
      "  . Most correlated bigrams:\n",
      "       . won best\n",
      "       . los angeles\n",
      "       . box office\n",
      "# 'politics':\n",
      "  . Most correlated unigrams:\n",
      "       . blair\n",
      "       . election\n",
      "       . labour\n",
      "  . Most correlated bigrams:\n",
      "       . prime minister\n",
      "       . tony blair\n",
      "       . mr blair\n",
      "# 'sport':\n",
      "  . Most correlated unigrams:\n",
      "       . match\n",
      "       . coach\n",
      "       . cup\n",
      "  . Most correlated bigrams:\n",
      "       . grand slam\n",
      "       . champions league\n",
      "       . australian open\n",
      "# 'tech':\n",
      "  . Most correlated unigrams:\n",
      "       . technology\n",
      "       . software\n",
      "       . users\n",
      "  . Most correlated bigrams:\n",
      "       . anti virus\n",
      "       . mobile phones\n",
      "       . mobile phone\n"
     ]
    }
   ],
   "source": [
    "# Use chi-square analysis to find corelation between features (importantce of words) and labels(news category) \n",
    "from sklearn.feature_selection import chi2\n",
    "import numpy as np\n",
    "\n",
    "N = 3  # We are going to look for top 3 categories\n",
    "\n",
    "#For each category, find words that are highly corelated to it\n",
    "for Category, category_id in sorted(category_to_id.items()):\n",
    "  features_chi2 = chi2(features, labels == category_id)                   # Do chi2 analyses of all items in this category\n",
    "  indices = np.argsort(features_chi2[0])                                  # Sorts the indices of features_chi2[0] - the chi-squared stats of each feature\n",
    "  feature_names = np.array(tfidf.get_feature_names())[indices]            # Converts indices to feature names ( in increasing order of chi-squared stat values)\n",
    "  unigrams = [v for v in feature_names if len(v.split(' ')) == 1]         # List of single word features ( in increasing order of chi-squared stat values)\n",
    "  bigrams = [v for v in feature_names if len(v.split(' ')) == 2]          # List for two-word features ( in increasing order of chi-squared stat values)\n",
    "  print(\"# '{}':\".format(Category))\n",
    "  print(\"  . Most correlated unigrams:\\n       . {}\".format('\\n       . '.join(unigrams[-N:]))) # Print 3 unigrams with highest Chi squared stat\n",
    "  print(\"  . Most correlated bigrams:\\n       . {}\".format('\\n       . '.join(bigrams[-N:]))) # Print 3 bigrams with highest Chi squared stat"
   ]
  },
  {
   "cell_type": "code",
   "execution_count": 19,
   "metadata": {},
   "outputs": [
    {
     "data": {
      "text/plain": [
       "(array([0.13345481, 0.01563765, 0.00108776, ..., 0.00812363, 0.15434356,\n",
       "        0.120306  ]),\n",
       " array([0.71487652, 0.9004835 , 0.97368962, ..., 0.92818297, 0.69441858,\n",
       "        0.72870284]))"
      ]
     },
     "execution_count": 19,
     "metadata": {},
     "output_type": "execute_result"
    }
   ],
   "source": [
    "features_chi2"
   ]
  },
  {
   "cell_type": "code",
   "execution_count": 20,
   "metadata": {
    "collapsed": true
   },
   "outputs": [],
   "source": [
    "from sklearn.manifold import TSNE\n",
    "\n",
    "# Sampling a subset of our dataset because t-SNE is computationally expensive\n",
    "SAMPLE_SIZE = int(len(features) * 0.3)\n",
    "np.random.seed(0)\n",
    "indices = np.random.choice(range(len(features)), size=SAMPLE_SIZE, replace=False)          # Randomly select 30 % of samples\n",
    "projected_features = TSNE(n_components=2, random_state=0).fit_transform(features[indices]) # Array of all projected features of 30% of Randomly chosen samples "
   ]
  },
  {
   "cell_type": "code",
   "execution_count": 21,
   "metadata": {},
   "outputs": [
    {
     "data": {
      "text/plain": [
       "numpy.ndarray"
      ]
     },
     "execution_count": 21,
     "metadata": {},
     "output_type": "execute_result"
    }
   ],
   "source": [
    "type(projected_features)"
   ]
  },
  {
   "cell_type": "code",
   "execution_count": 22,
   "metadata": {},
   "outputs": [
    {
     "data": {
      "text/plain": [
       "array([[ 24.456087  ,   4.991678  ],\n",
       "       [ 27.14179   ,   8.628061  ],\n",
       "       [ 10.344382  ,  10.784537  ],\n",
       "       [ 19.666073  ,  -1.2290062 ],\n",
       "       [  8.697092  ,  21.827822  ],\n",
       "       [ 18.77303   ,   3.3936913 ],\n",
       "       [ 25.724802  ,  21.020649  ],\n",
       "       [ 19.031704  ,   1.4697374 ],\n",
       "       [ 31.04694   ,   4.3737874 ],\n",
       "       [ 15.902427  ,   5.585339  ],\n",
       "       [ -5.8742695 ,   8.718135  ],\n",
       "       [ 13.599788  ,   4.4539046 ],\n",
       "       [ 29.570477  ,  -3.0427206 ],\n",
       "       [ 17.276978  ,  16.911373  ],\n",
       "       [ 20.530682  ,  -3.6002219 ],\n",
       "       [ 15.208641  ,   2.6615133 ],\n",
       "       [ 25.961794  ,   9.564289  ],\n",
       "       [ 20.865442  ,   3.0545444 ],\n",
       "       [ 18.284494  ,  10.597688  ],\n",
       "       [ 27.65307   ,  17.756382  ],\n",
       "       [ 22.263596  , -10.799928  ],\n",
       "       [ 22.98332   ,  12.730338  ],\n",
       "       [ 10.543774  ,  10.279429  ],\n",
       "       [ 24.59003   ,  10.60024   ],\n",
       "       [ 27.568663  ,  11.743236  ],\n",
       "       [ 24.581089  ,  15.392806  ],\n",
       "       [ 20.310053  ,  13.514197  ],\n",
       "       [ 23.76583   ,  17.829245  ],\n",
       "       [ 26.691223  ,   9.252927  ],\n",
       "       [ 24.123333  ,  17.998869  ],\n",
       "       [ 18.045862  ,  14.210156  ],\n",
       "       [ 21.742489  ,  11.671626  ],\n",
       "       [ 18.624525  ,   6.3108554 ],\n",
       "       [ 28.68964   ,  -0.24256319],\n",
       "       [ 13.41815   ,   3.3589947 ],\n",
       "       [ 20.588917  ,   1.1264472 ],\n",
       "       [ 22.007454  ,   6.220973  ],\n",
       "       [ 10.72652   ,   8.370348  ],\n",
       "       [  9.641313  ,   3.4962807 ],\n",
       "       [ 19.503925  ,  -2.7472408 ],\n",
       "       [  8.432641  ,   7.933097  ],\n",
       "       [ 27.052336  ,  12.572476  ],\n",
       "       [ 19.519659  ,   3.3460438 ],\n",
       "       [  8.432819  ,   6.924472  ],\n",
       "       [ 28.359192  ,  16.398153  ],\n",
       "       [ 18.64769   ,  16.23164   ],\n",
       "       [ 30.279413  ,   9.845864  ],\n",
       "       [ 18.150118  ,   7.6016927 ],\n",
       "       [ 28.639894  ,  -0.15500222],\n",
       "       [ 21.649647  ,  -4.0025806 ],\n",
       "       [ 12.111792  ,  10.3684025 ],\n",
       "       [ 15.758866  ,  11.297198  ],\n",
       "       [ 22.003628  ,  14.836981  ],\n",
       "       [ 24.542515  ,  -1.0368868 ],\n",
       "       [ 31.251118  ,   9.393381  ],\n",
       "       [ 15.086205  ,   6.973064  ],\n",
       "       [  8.024056  ,   3.7577202 ],\n",
       "       [ 21.500195  ,  11.718646  ],\n",
       "       [ 21.964968  ,  -3.2065525 ],\n",
       "       [  9.115846  ,  -1.9041476 ],\n",
       "       [ 31.848692  ,   9.11366   ],\n",
       "       [ 26.929354  ,  18.153662  ],\n",
       "       [  9.550033  ,  21.107565  ],\n",
       "       [  9.292794  ,   9.895685  ],\n",
       "       [ 21.921     ,  -1.1777866 ],\n",
       "       [ 22.245026  ,   8.485351  ],\n",
       "       [  9.417147  ,   6.6273026 ],\n",
       "       [ 24.307053  ,   5.087158  ],\n",
       "       [ 16.952332  ,   0.21215525],\n",
       "       [ 30.78682   ,  14.793427  ],\n",
       "       [ 28.165388  ,  19.717339  ],\n",
       "       [ 26.550215  ,  15.077517  ],\n",
       "       [ 16.207802  ,  14.820509  ],\n",
       "       [ 23.040695  ,  18.510836  ],\n",
       "       [ 21.246355  ,   9.559781  ],\n",
       "       [ 19.651546  ,  16.212854  ],\n",
       "       [ 18.181442  ,   4.344123  ],\n",
       "       [ 16.146275  ,  15.584954  ],\n",
       "       [ 15.721609  ,  11.848985  ],\n",
       "       [ 24.501818  ,   6.7411556 ],\n",
       "       [ 26.430828  ,  -4.0931816 ],\n",
       "       [ 12.253765  ,   0.751487  ],\n",
       "       [ 18.01594   ,   1.3026552 ],\n",
       "       [  6.7730975 ,   3.553645  ],\n",
       "       [ 10.41307   ,   6.8705173 ],\n",
       "       [ 13.10086   ,   7.2756567 ],\n",
       "       [ 26.672707  ,   4.4947653 ],\n",
       "       [ 27.684326  ,   1.4432961 ],\n",
       "       [ 22.806658  ,   7.944612  ],\n",
       "       [ 14.672357  ,   7.5458007 ],\n",
       "       [ 30.65806   ,   4.5117474 ],\n",
       "       [ 21.606976  ,  14.418388  ],\n",
       "       [ 15.976189  ,   9.018745  ],\n",
       "       [ 18.172165  ,  10.783582  ],\n",
       "       [ 19.359167  ,  -1.9753804 ],\n",
       "       [ 28.676458  ,  20.757833  ],\n",
       "       [ 29.55818   ,  18.324026  ],\n",
       "       [ 12.801444  ,   2.3684313 ],\n",
       "       [ 25.779423  ,  20.871841  ],\n",
       "       [ -9.376968  ,  17.961021  ],\n",
       "       [ 30.70064   ,  15.186873  ],\n",
       "       [ 23.280878  ,   2.7434528 ],\n",
       "       [ 22.873487  ,   1.2064457 ]], dtype=float32)"
      ]
     },
     "execution_count": 22,
     "metadata": {},
     "output_type": "execute_result"
    }
   ],
   "source": [
    "my_id = 0 # Select a category_id\n",
    "projected_features[(labels[indices] == my_id).values]"
   ]
  },
  {
   "cell_type": "code",
   "execution_count": 25,
   "metadata": {},
   "outputs": [
    {
     "data": {
      "text/plain": [
       "<matplotlib.legend.Legend at 0x7f6177ec5a58>"
      ]
     },
     "execution_count": 25,
     "metadata": {},
     "output_type": "execute_result"
    },
    {
     "data": {
      "image/png": "[encoded data removed]",
      "text/plain": [
       "<matplotlib.figure.Figure at 0x7f6177ec5a20>"
      ]
     },
     "metadata": {},
     "output_type": "display_data"
    }
   ],
   "source": [
    "import matplotlib.pyplot as plt \n",
    "colors = ['pink', 'green', 'midnightblue', 'orange', 'darkgrey']\n",
    "\n",
    "# Find points belonging to each category and plot them\n",
    "for category, category_id in sorted(category_to_id.items()):\n",
    "    points = projected_features[(labels[indices] == category_id).values]\n",
    "    plt.scatter(points[:, 0], points[:, 1], s=30, c=colors[category_id], label=category)\n",
    "plt.title(\"tf-idf feature vector for each article, projected on 2 dimensions.\",\n",
    "          fontdict=dict(fontsize=15))\n",
    "plt.legend()"
   ]
  },
  {
   "cell_type": "markdown",
   "metadata": {},
   "source": [
    "models used for classificaiton\n",
    "##### Logistic Regression\n",
    "##### RandomForestClassifier\n",
    "##### MultinomialNB ( Naive Bayes)"
   ]
  },
  {
   "cell_type": "code",
   "execution_count": 26,
   "metadata": {},
   "outputs": [
    {
     "data": {
      "text/plain": [
       "(1490, 9927)"
      ]
     },
     "execution_count": 26,
     "metadata": {},
     "output_type": "execute_result"
    }
   ],
   "source": [
    "features.shape"
   ]
  },
  {
   "cell_type": "code",
   "execution_count": 27,
   "metadata": {},
   "outputs": [
    {
     "name": "stderr",
     "output_type": "stream",
     "text": [
      "/home/dell/anaconda3/lib/python3.6/site-packages/sklearn/ensemble/weight_boosting.py:29: DeprecationWarning: numpy.core.umath_tests is an internal NumPy module and should not be imported. It will be removed in a future NumPy release.\n",
      "  from numpy.core.umath_tests import inner1d\n"
     ]
    }
   ],
   "source": [
    "from sklearn.linear_model import LogisticRegression\n",
    "from sklearn.ensemble import RandomForestClassifier\n",
    "from sklearn.naive_bayes import MultinomialNB\n",
    "\n",
    "from sklearn.model_selection import cross_val_score\n",
    "\n",
    "\n",
    "models = [\n",
    "    RandomForestClassifier(n_estimators=200, max_depth=3, random_state=0),\n",
    "    MultinomialNB(),\n",
    "    LogisticRegression(random_state=0),\n",
    "]"
   ]
  },
  {
   "cell_type": "code",
   "execution_count": 28,
   "metadata": {
    "collapsed": true
   },
   "outputs": [],
   "source": [
    "CV = 5  # Cross Validate with 5 different folds of 20% data ( 80-20 split with 5 folds )\n",
    "\n",
    "#Create a data frame that will store the results for all 5 trials of the 3 different models\n",
    "cv_df = pd.DataFrame(index=range(CV * len(models)))\n",
    "entries = [] # Initially all entries are empty"
   ]
  },
  {
   "cell_type": "code",
   "execution_count": 29,
   "metadata": {
    "collapsed": true
   },
   "outputs": [],
   "source": [
    "#For each Algorithm \n",
    "for model in models:\n",
    "  model_name = model.__class__.__name__\n",
    "  # create 5 models with different 20% test sets, and store their accuracies\n",
    "  accuracies = cross_val_score(model, features, labels, scoring='accuracy', cv=CV)\n",
    "  # Append all 5 accuracies into the entries list ( after all 3 models are run, there will be 3x5 = 15 entries)\n",
    "  for fold_idx, accuracy in enumerate(accuracies):\n",
    "    entries.append((model_name, fold_idx, accuracy))"
   ]
  },
  {
   "cell_type": "code",
   "execution_count": 30,
   "metadata": {
    "collapsed": true
   },
   "outputs": [],
   "source": [
    "# Store the entries into the results dataframe and name its columns    \n",
    "cv_df = pd.DataFrame(entries, columns=['model_name', 'fold_idx', 'accuracy'])"
   ]
  },
  {
   "cell_type": "code",
   "execution_count": 31,
   "metadata": {},
   "outputs": [
    {
     "data": {
      "text/plain": [
       "<matplotlib.axes._subplots.AxesSubplot at 0x7f6176e79780>"
      ]
     },
     "execution_count": 31,
     "metadata": {},
     "output_type": "execute_result"
    },
    {
     "data": {
      "image/png": "[encoded data removed]",
      "text/plain": [
       "<matplotlib.figure.Figure at 0x7f61774fea90>"
      ]
     },
     "metadata": {},
     "output_type": "display_data"
    }
   ],
   "source": [
    "import seaborn as sns\n",
    "\n",
    "sns.boxplot(x='model_name', y='accuracy', data=cv_df)\n",
    "sns.stripplot(x='model_name', y='accuracy', data=cv_df, \n",
    "              size=8, jitter=True, edgecolor=\"gray\", linewidth=2)"
   ]
  },
  {
   "cell_type": "code",
   "execution_count": 32,
   "metadata": {},
   "outputs": [
    {
     "data": {
      "text/plain": [
       "model_name\n",
       "LogisticRegression        0.973165\n",
       "MultinomialNB             0.973838\n",
       "RandomForestClassifier    0.847763\n",
       "Name: accuracy, dtype: float64"
      ]
     },
     "execution_count": 32,
     "metadata": {},
     "output_type": "execute_result"
    }
   ],
   "source": [
    "# Mean accuracy of each algorithm\n",
    "cv_df.groupby('model_name').accuracy.mean()"
   ]
  },
  {
   "cell_type": "code",
   "execution_count": 33,
   "metadata": {},
   "outputs": [
    {
     "data": {
      "text/html": [
       "<div>\n",
       "<style>\n",
       "    .dataframe thead tr:only-child th {\n",
       "        text-align: right;\n",
       "    }\n",
       "\n",
       "    .dataframe thead th {\n",
       "        text-align: left;\n",
       "    }\n",
       "\n",
       "    .dataframe tbody tr th {\n",
       "        vertical-align: top;\n",
       "    }\n",
       "</style>\n",
       "<table border=\"1\" class=\"dataframe\">\n",
       "  <thead>\n",
       "    <tr style=\"text-align: right;\">\n",
       "      <th></th>\n",
       "      <th>model_name</th>\n",
       "      <th>fold_idx</th>\n",
       "      <th>accuracy</th>\n",
       "    </tr>\n",
       "  </thead>\n",
       "  <tbody>\n",
       "    <tr>\n",
       "      <th>0</th>\n",
       "      <td>RandomForestClassifier</td>\n",
       "      <td>0</td>\n",
       "      <td>0.830565</td>\n",
       "    </tr>\n",
       "    <tr>\n",
       "      <th>1</th>\n",
       "      <td>RandomForestClassifier</td>\n",
       "      <td>1</td>\n",
       "      <td>0.812081</td>\n",
       "    </tr>\n",
       "    <tr>\n",
       "      <th>2</th>\n",
       "      <td>RandomForestClassifier</td>\n",
       "      <td>2</td>\n",
       "      <td>0.822148</td>\n",
       "    </tr>\n",
       "    <tr>\n",
       "      <th>3</th>\n",
       "      <td>RandomForestClassifier</td>\n",
       "      <td>3</td>\n",
       "      <td>0.888889</td>\n",
       "    </tr>\n",
       "    <tr>\n",
       "      <th>4</th>\n",
       "      <td>RandomForestClassifier</td>\n",
       "      <td>4</td>\n",
       "      <td>0.885135</td>\n",
       "    </tr>\n",
       "    <tr>\n",
       "      <th>5</th>\n",
       "      <td>MultinomialNB</td>\n",
       "      <td>0</td>\n",
       "      <td>0.970100</td>\n",
       "    </tr>\n",
       "    <tr>\n",
       "      <th>6</th>\n",
       "      <td>MultinomialNB</td>\n",
       "      <td>1</td>\n",
       "      <td>0.959732</td>\n",
       "    </tr>\n",
       "    <tr>\n",
       "      <th>7</th>\n",
       "      <td>MultinomialNB</td>\n",
       "      <td>2</td>\n",
       "      <td>0.983221</td>\n",
       "    </tr>\n",
       "    <tr>\n",
       "      <th>8</th>\n",
       "      <td>MultinomialNB</td>\n",
       "      <td>3</td>\n",
       "      <td>0.983165</td>\n",
       "    </tr>\n",
       "    <tr>\n",
       "      <th>9</th>\n",
       "      <td>MultinomialNB</td>\n",
       "      <td>4</td>\n",
       "      <td>0.972973</td>\n",
       "    </tr>\n",
       "    <tr>\n",
       "      <th>10</th>\n",
       "      <td>LogisticRegression</td>\n",
       "      <td>0</td>\n",
       "      <td>0.970100</td>\n",
       "    </tr>\n",
       "    <tr>\n",
       "      <th>11</th>\n",
       "      <td>LogisticRegression</td>\n",
       "      <td>1</td>\n",
       "      <td>0.959732</td>\n",
       "    </tr>\n",
       "    <tr>\n",
       "      <th>12</th>\n",
       "      <td>LogisticRegression</td>\n",
       "      <td>2</td>\n",
       "      <td>0.983221</td>\n",
       "    </tr>\n",
       "    <tr>\n",
       "      <th>13</th>\n",
       "      <td>LogisticRegression</td>\n",
       "      <td>3</td>\n",
       "      <td>0.979798</td>\n",
       "    </tr>\n",
       "    <tr>\n",
       "      <th>14</th>\n",
       "      <td>LogisticRegression</td>\n",
       "      <td>4</td>\n",
       "      <td>0.972973</td>\n",
       "    </tr>\n",
       "  </tbody>\n",
       "</table>\n",
       "</div>"
      ],
      "text/plain": [
       "                model_name  fold_idx  accuracy\n",
       "0   RandomForestClassifier         0  0.830565\n",
       "1   RandomForestClassifier         1  0.812081\n",
       "2   RandomForestClassifier         2  0.822148\n",
       "3   RandomForestClassifier         3  0.888889\n",
       "4   RandomForestClassifier         4  0.885135\n",
       "5            MultinomialNB         0  0.970100\n",
       "6            MultinomialNB         1  0.959732\n",
       "7            MultinomialNB         2  0.983221\n",
       "8            MultinomialNB         3  0.983165\n",
       "9            MultinomialNB         4  0.972973\n",
       "10      LogisticRegression         0  0.970100\n",
       "11      LogisticRegression         1  0.959732\n",
       "12      LogisticRegression         2  0.983221\n",
       "13      LogisticRegression         3  0.979798\n",
       "14      LogisticRegression         4  0.972973"
      ]
     },
     "execution_count": 33,
     "metadata": {},
     "output_type": "execute_result"
    }
   ],
   "source": [
    "cv_df"
   ]
  },
  {
   "cell_type": "code",
   "execution_count": 34,
   "metadata": {
    "collapsed": true
   },
   "outputs": [],
   "source": [
    "from sklearn.model_selection import train_test_split\n",
    "\n",
    "model = LogisticRegression(random_state=0)\n",
    "\n",
    "#Split Data \n",
    "X_train, X_test, y_train, y_test, indices_train, indices_test = train_test_split(features, labels, df.index, test_size=0.33, random_state=0)\n",
    "\n",
    "#Train Algorithm\n",
    "model.fit(X_train, y_train)\n",
    "\n",
    "# Make Predictions\n",
    "y_pred_proba = model.predict_proba(X_test)\n",
    "y_pred = model.predict(X_test)"
   ]
  },
  {
   "cell_type": "code",
   "execution_count": 35,
   "metadata": {},
   "outputs": [
    {
     "data": {
      "text/plain": [
       "Text(0.5,15,'Predicted')"
      ]
     },
     "execution_count": 35,
     "metadata": {},
     "output_type": "execute_result"
    },
    {
     "data": {
      "image/png": "[encoded data removed]",
      "text/plain": [
       "<matplotlib.figure.Figure at 0x7f6177332080>"
      ]
     },
     "metadata": {},
     "output_type": "display_data"
    }
   ],
   "source": [
    "from sklearn.metrics import confusion_matrix\n",
    "import seaborn as sns\n",
    "\n",
    "conf_mat = confusion_matrix(y_test, y_pred)\n",
    "sns.heatmap(conf_mat, annot=True, fmt='d',\n",
    "            xticklabels=category_id_df.Category.values, yticklabels=category_id_df.Category.values)\n",
    "plt.ylabel('Actual')\n",
    "plt.xlabel('Predicted')"
   ]
  },
  {
   "cell_type": "markdown",
   "metadata": {},
   "source": [
    "#####  cases where article was miscategorised in same way at least 2 or more times"
   ]
  },
  {
   "cell_type": "code",
   "execution_count": 36,
   "metadata": {},
   "outputs": [
    {
     "name": "stdout",
     "output_type": "stream",
     "text": [
      "'tech' predicted as 'business' : 2 examples.\n"
     ]
    },
    {
     "data": {
      "text/plain": [
       "641    us woman sues over cartridges a us woman is su...\n",
       "549    man auctions ad space on forehead a 20-year-ol...\n",
       "Name: Text, dtype: object"
      ]
     },
     "metadata": {},
     "output_type": "display_data"
    },
    {
     "name": "stdout",
     "output_type": "stream",
     "text": [
      "\n",
      "'politics' predicted as 'business' : 2 examples.\n"
     ]
    },
    {
     "data": {
      "text/plain": [
       "962    hatfield executives go on trial engineering fi...\n",
       "249    eu fraud clampdown urged eu member states are ...\n",
       "Name: Text, dtype: object"
      ]
     },
     "metadata": {},
     "output_type": "display_data"
    },
    {
     "name": "stdout",
     "output_type": "stream",
     "text": [
      "\n",
      "'business' predicted as 'sport' : 2 examples.\n"
     ]
    },
    {
     "data": {
      "text/plain": [
       "61     arsenal  may seek full share listing  arsenal ...\n",
       "728    christmas shoppers flock to tills shops all ov...\n",
       "Name: Text, dtype: object"
      ]
     },
     "metadata": {},
     "output_type": "display_data"
    },
    {
     "name": "stdout",
     "output_type": "stream",
     "text": [
      "\n",
      "'tech' predicted as 'entertainment' : 2 examples.\n"
     ]
    },
    {
     "data": {
      "text/plain": [
       "1091    ultimate game  award for doom 3 sci-fi shooter...\n",
       "1115    ultimate game  award for doom 3 sci-fi shooter...\n",
       "Name: Text, dtype: object"
      ]
     },
     "metadata": {},
     "output_type": "display_data"
    },
    {
     "name": "stdout",
     "output_type": "stream",
     "text": [
      "\n"
     ]
    }
   ],
   "source": [
    "from IPython.display import display\n",
    "\n",
    "for predicted in category_id_df.category_id:\n",
    "  for actual in category_id_df.category_id:\n",
    "    if predicted != actual and conf_mat[actual, predicted] >= 2:\n",
    "      print(\"'{}' predicted as '{}' : {} examples.\".format(id_to_category[actual], id_to_category[predicted], conf_mat[actual, predicted]))\n",
    "      display(df.loc[indices_test[(y_test == actual) & (y_pred == predicted)]]['Text'])\n",
    "      print('')"
   ]
  },
  {
   "cell_type": "markdown",
   "metadata": {},
   "source": [
    "##### Finally - Use all the data to train the model"
   ]
  },
  {
   "cell_type": "code",
   "execution_count": 37,
   "metadata": {},
   "outputs": [
    {
     "data": {
      "text/plain": [
       "LogisticRegression(C=1.0, class_weight=None, dual=False, fit_intercept=True,\n",
       "          intercept_scaling=1, max_iter=100, multi_class='ovr', n_jobs=1,\n",
       "          penalty='l2', random_state=0, solver='liblinear', tol=0.0001,\n",
       "          verbose=0, warm_start=False)"
      ]
     },
     "execution_count": 37,
     "metadata": {},
     "output_type": "execute_result"
    }
   ],
   "source": [
    "model.fit(features, labels)"
   ]
  },
  {
   "cell_type": "code",
   "execution_count": 38,
   "metadata": {},
   "outputs": [
    {
     "data": {
      "text/plain": [
       "array([[ 0.61069804,  0.02502889, -0.09060193, ..., -0.03636643,\n",
       "         0.00419064, -0.04272792],\n",
       "       [ 0.01975767, -0.04260463, -0.01595794, ...,  0.00227891,\n",
       "        -0.04324871, -0.03103298],\n",
       "       [ 0.0980913 , -0.054221  , -0.05799367, ..., -0.01512109,\n",
       "        -0.04652802, -0.0351415 ],\n",
       "       [-0.73890367, -0.04391918, -0.06706221, ...,  0.10725441,\n",
       "         0.1057852 ,  0.12698196],\n",
       "       [ 0.20278773,  0.15044243,  0.23596437, ..., -0.05775219,\n",
       "        -0.04755494, -0.03945784]])"
      ]
     },
     "execution_count": 38,
     "metadata": {},
     "output_type": "execute_result"
    }
   ],
   "source": [
    "# model.coef_ contains the importance of each feature for each category\n",
    "model.coef_"
   ]
  },
  {
   "cell_type": "markdown",
   "metadata": {},
   "source": [
    "##### Print top 5 words / two-word combos for each Category¶"
   ]
  },
  {
   "cell_type": "code",
   "execution_count": 39,
   "metadata": {},
   "outputs": [
    {
     "name": "stdout",
     "output_type": "stream",
     "text": [
      "# 'business':\n",
      "  . Top unigrams:\n",
      "       . firm\n",
      "       . bank\n",
      "       . company\n",
      "       . shares\n",
      "       . market\n",
      "  . Top bigrams:\n",
      "       . chief executive\n",
      "       . analysts said\n",
      "       . stock market\n",
      "       . economic growth\n",
      "       . oil prices\n",
      "# 'entertainment':\n",
      "  . Top unigrams:\n",
      "       . film\n",
      "       . music\n",
      "       . singer\n",
      "       . star\n",
      "       . band\n",
      "  . Top bigrams:\n",
      "       . box office\n",
      "       . los angeles\n",
      "       . film festival\n",
      "       . new york\n",
      "       . big brother\n",
      "# 'politics':\n",
      "  . Top unigrams:\n",
      "       . labour\n",
      "       . mr\n",
      "       . party\n",
      "       . election\n",
      "       . government\n",
      "  . Top bigrams:\n",
      "       . mr blair\n",
      "       . prime minister\n",
      "       . tony blair\n",
      "       . general election\n",
      "       . mr brown\n",
      "# 'sport':\n",
      "  . Top unigrams:\n",
      "       . match\n",
      "       . game\n",
      "       . win\n",
      "       . coach\n",
      "       . cup\n",
      "  . Top bigrams:\n",
      "       . year old\n",
      "       . australian open\n",
      "       . champions league\n",
      "       . world cup\n",
      "       . grand slam\n",
      "# 'tech':\n",
      "  . Top unigrams:\n",
      "       . users\n",
      "       . software\n",
      "       . computer\n",
      "       . technology\n",
      "       . people\n",
      "  . Top bigrams:\n",
      "       . said mr\n",
      "       . news website\n",
      "       . mobile phone\n",
      "       . bbc news\n",
      "       . mobile phones\n"
     ]
    }
   ],
   "source": [
    "from sklearn.feature_selection import chi2\n",
    "\n",
    "N = 5\n",
    "for Category, category_id in sorted(category_to_id.items()):\n",
    "  indices = np.argsort(model.coef_[category_id])   # This time using the model co-eficients / weights\n",
    "  feature_names = np.array(tfidf.get_feature_names())[indices]\n",
    "  unigrams = [v for v in reversed(feature_names) if len(v.split(' ')) == 1][:N]\n",
    "  bigrams = [v for v in reversed(feature_names) if len(v.split(' ')) == 2][:N]\n",
    "  print(\"# '{}':\".format(Category))\n",
    "  print(\"  . Top unigrams:\\n       . {}\".format('\\n       . '.join(unigrams)))\n",
    "  print(\"  . Top bigrams:\\n       . {}\".format('\\n       . '.join(bigrams)))"
   ]
  },
  {
   "cell_type": "code",
   "execution_count": 40,
   "metadata": {},
   "outputs": [
    {
     "name": "stdout",
     "output_type": "stream",
     "text": [
      "\"Hooli stock price soared after a dip in PiedPiper revenue growth.\"\n",
      "  - Predicted as: 'business'\n",
      "\n",
      "\"Captain Tsubasa scores a magnificent goal for the Japanese team.\"\n",
      "  - Predicted as: 'sport'\n",
      "\n",
      "\"Merryweather mercenaries are sent on another mission, as government oversight groups call for new sanctions.\"\n",
      "  - Predicted as: 'politics'\n",
      "\n",
      "\"Beyoncé releases a new album, tops the charts in all of south-east Asia!\"\n",
      "  - Predicted as: 'entertainment'\n",
      "\n",
      "\"You won't guess what the latest trend in data analysis is!\"\n",
      "  - Predicted as: 'tech'\n",
      "\n"
     ]
    }
   ],
   "source": [
    "texts = [\"Hooli stock price soared after a dip in PiedPiper revenue growth.\",\n",
    "         \"Captain Tsubasa scores a magnificent goal for the Japanese team.\",\n",
    "         \"Merryweather mercenaries are sent on another mission, as government oversight groups call for new sanctions.\",\n",
    "         \"Beyoncé releases a new album, tops the charts in all of south-east Asia!\",\n",
    "         \"You won't guess what the latest trend in data analysis is!\"]\n",
    "text_features = tfidf.transform(texts)\n",
    "predictions = model.predict(text_features)\n",
    "for text, predicted in zip(texts, predictions):\n",
    "  print('\"{}\"'.format(text))\n",
    "  print(\"  - Predicted as: '{}'\".format(id_to_category[predicted]))\n",
    "  print(\"\")"
   ]
  },
  {
   "cell_type": "code",
   "execution_count": null,
   "metadata": {
    "collapsed": true
   },
   "outputs": [],
   "source": [
    "# import os\n",
    "# print(os.listdir(\"../input/bbc-test\"))"
   ]
  },
  {
   "cell_type": "code",
   "execution_count": 41,
   "metadata": {
    "collapsed": true
   },
   "outputs": [],
   "source": [
    "# TEST_PATH = os.path.join(\"../input/bbc-test\", \"BBC News Test.csv\")\n",
    "\n",
    "#Load the data using pandas : Create a DataFrame\n",
    "test_df = pd.read_csv('BBC News Test.csv')"
   ]
  },
  {
   "cell_type": "code",
   "execution_count": 42,
   "metadata": {},
   "outputs": [
    {
     "data": {
      "text/plain": [
       "array([3, 1, 3, 0, 3, 3, 2, 2, 4, 0, 0, 1, 2, 1, 4, 3, 2, 1, 4, 4, 0, 2,\n",
       "       3, 0, 2, 3, 0, 3, 3, 0, 2, 1, 0, 0, 3, 3, 3, 0, 4, 4, 1, 2, 4, 1,\n",
       "       3, 1, 4, 0, 2, 0, 2, 0, 0, 0, 1, 2, 1, 4, 3, 1, 3, 4, 1, 2, 0, 4,\n",
       "       3, 1, 3, 3, 0, 3, 0, 2, 1, 3, 1, 1, 1, 4, 2, 3, 4, 4, 0, 4, 0, 4,\n",
       "       0, 1, 0, 2, 3, 1, 3, 3, 3, 3, 3, 3, 2, 3, 2, 4, 0, 3, 2, 3, 2, 4,\n",
       "       3, 0, 4, 3, 2, 3, 2, 3, 2, 0, 4, 0, 4, 4, 1, 3, 0, 4, 0, 4, 0, 2,\n",
       "       2, 1, 0, 0, 2, 1, 4, 3, 0, 1, 3, 4, 2, 3, 3, 4, 4, 1, 0, 1, 2, 4,\n",
       "       3, 3, 3, 3, 4, 1, 0, 1, 0, 1, 0, 1, 4, 1, 1, 2, 0, 2, 0, 0, 4, 2,\n",
       "       1, 0, 0, 1, 3, 2, 3, 2, 1, 1, 2, 0, 2, 1, 2, 0, 4, 3, 1, 1, 0, 1,\n",
       "       2, 0, 3, 2, 0, 4, 0, 0, 3, 1, 0, 3, 4, 4, 3, 4, 3, 1, 2, 4, 3, 4,\n",
       "       3, 4, 2, 0, 1, 4, 0, 2, 0, 1, 0, 3, 2, 2, 0, 2, 3, 0, 4, 2, 3, 2,\n",
       "       0, 3, 1, 0, 2, 0, 2, 0, 0, 3, 1, 2, 4, 1, 4, 1, 3, 3, 1, 3, 3, 3,\n",
       "       4, 3, 2, 1, 0, 3, 0, 3, 0, 3, 4, 0, 0, 4, 2, 0, 3, 3, 1, 3, 3, 4,\n",
       "       0, 3, 1, 2, 4, 0, 0, 2, 3, 4, 2, 0, 3, 3, 1, 4, 3, 0, 1, 0, 3, 2,\n",
       "       2, 4, 2, 4, 2, 0, 2, 1, 0, 3, 1, 4, 2, 3, 2, 2, 1, 2, 3, 1, 2, 1,\n",
       "       1, 4, 0, 1, 2, 0, 2, 3, 1, 4, 4, 0, 3, 1, 1, 4, 1, 0, 3, 4, 1, 0,\n",
       "       2, 1, 1, 2, 2, 3, 0, 1, 3, 2, 2, 0, 1, 3, 2, 0, 2, 2, 1, 4, 0, 0,\n",
       "       3, 3, 3, 1, 3, 2, 1, 1, 2, 0, 3, 3, 4, 4, 3, 1, 1, 3, 1, 4, 2, 1,\n",
       "       3, 0, 2, 4, 0, 1, 3, 2, 0, 0, 2, 1, 3, 4, 0, 1, 0, 1, 3, 3, 2, 0,\n",
       "       1, 3, 2, 0, 0, 1, 2, 1, 0, 2, 0, 4, 0, 4, 2, 4, 3, 0, 2, 0, 3, 4,\n",
       "       0, 4, 4, 3, 1, 4, 0, 0, 2, 4, 2, 2, 3, 0, 0, 2, 4, 4, 0, 0, 3, 2,\n",
       "       1, 0, 2, 0, 3, 3, 2, 3, 1, 0, 2, 3, 2, 1, 0, 2, 1, 2, 2, 4, 1, 3,\n",
       "       3, 2, 0, 1, 2, 3, 3, 4, 0, 4, 4, 0, 2, 3, 0, 1, 1, 0, 2, 3, 0, 3,\n",
       "       0, 2, 0, 3, 2, 1, 3, 2, 0, 1, 2, 3, 2, 4, 3, 2, 0, 0, 0, 1, 2, 2,\n",
       "       3, 0, 1, 1, 1, 3, 1, 2, 0, 0, 3, 4, 2, 0, 1, 1, 3, 1, 0, 3, 0, 0,\n",
       "       0, 2, 2, 4, 4, 4, 2, 1, 1, 2, 4, 0, 3, 3, 2, 4, 2, 3, 0, 0, 0, 4,\n",
       "       1, 3, 0, 2, 2, 1, 2, 3, 2, 0, 1, 0, 3, 3, 1, 3, 4, 1, 4, 1, 3, 2,\n",
       "       0, 1, 2, 4, 4, 2, 0, 0, 1, 0, 0, 0, 3, 4, 0, 3, 0, 3, 1, 0, 2, 3,\n",
       "       0, 3, 3, 4, 2, 1, 3, 0, 3, 0, 3, 3, 2, 1, 0, 1, 0, 3, 1, 0, 4, 0,\n",
       "       4, 3, 1, 0, 0, 0, 2, 3, 4, 1, 0, 3, 4, 0, 4, 0, 2, 3, 3, 0, 1, 3,\n",
       "       0, 0, 0, 0, 0, 4, 1, 3, 2, 1, 2, 1, 3, 1, 4, 0, 0, 4, 2, 3, 3, 3,\n",
       "       4, 1, 2, 4, 3, 3, 2, 1, 2, 4, 3, 4, 3, 1, 1, 3, 3, 0, 1, 4, 0, 1,\n",
       "       0, 0, 3, 4, 2, 4, 0, 2, 0, 2, 3, 1, 1, 2, 4, 0, 1, 4, 4, 2, 0, 0,\n",
       "       2, 2, 1, 3, 0, 4, 2, 0, 2])"
      ]
     },
     "execution_count": 42,
     "metadata": {},
     "output_type": "execute_result"
    }
   ],
   "source": [
    "test_features = tfidf.transform(test_df.Text.tolist())\n",
    "\n",
    "Y_pred = model.predict(test_features)\n",
    "\n",
    "Y_pred"
   ]
  },
  {
   "cell_type": "code",
   "execution_count": 44,
   "metadata": {
    "collapsed": true
   },
   "outputs": [],
   "source": [
    "# Since all predictions are in terms of \"Category IDs (numbers)\", need to convert back to Category name\n",
    "Y_pred_name =[]\n",
    "for cat_id in Y_pred :\n",
    "    Y_pred_name.append(id_to_category[cat_id])\n",
    "    "
   ]
  },
  {
   "cell_type": "code",
   "execution_count": 45,
   "metadata": {},
   "outputs": [
    {
     "data": {
      "text/plain": [
       "['sport',\n",
       " 'tech',\n",
       " 'sport',\n",
       " 'business',\n",
       " 'sport',\n",
       " 'sport',\n",
       " 'politics',\n",
       " 'politics',\n",
       " 'entertainment',\n",
       " 'business',\n",
       " 'business',\n",
       " 'tech',\n",
       " 'politics',\n",
       " 'tech',\n",
       " 'entertainment',\n",
       " 'sport',\n",
       " 'politics',\n",
       " 'tech',\n",
       " 'entertainment',\n",
       " 'entertainment',\n",
       " 'business',\n",
       " 'politics',\n",
       " 'sport',\n",
       " 'business',\n",
       " 'politics',\n",
       " 'sport',\n",
       " 'business',\n",
       " 'sport',\n",
       " 'sport',\n",
       " 'business',\n",
       " 'politics',\n",
       " 'tech',\n",
       " 'business',\n",
       " 'business',\n",
       " 'sport',\n",
       " 'sport',\n",
       " 'sport',\n",
       " 'business',\n",
       " 'entertainment',\n",
       " 'entertainment',\n",
       " 'tech',\n",
       " 'politics',\n",
       " 'entertainment',\n",
       " 'tech',\n",
       " 'sport',\n",
       " 'tech',\n",
       " 'entertainment',\n",
       " 'business',\n",
       " 'politics',\n",
       " 'business',\n",
       " 'politics',\n",
       " 'business',\n",
       " 'business',\n",
       " 'business',\n",
       " 'tech',\n",
       " 'politics',\n",
       " 'tech',\n",
       " 'entertainment',\n",
       " 'sport',\n",
       " 'tech',\n",
       " 'sport',\n",
       " 'entertainment',\n",
       " 'tech',\n",
       " 'politics',\n",
       " 'business',\n",
       " 'entertainment',\n",
       " 'sport',\n",
       " 'tech',\n",
       " 'sport',\n",
       " 'sport',\n",
       " 'business',\n",
       " 'sport',\n",
       " 'business',\n",
       " 'politics',\n",
       " 'tech',\n",
       " 'sport',\n",
       " 'tech',\n",
       " 'tech',\n",
       " 'tech',\n",
       " 'entertainment',\n",
       " 'politics',\n",
       " 'sport',\n",
       " 'entertainment',\n",
       " 'entertainment',\n",
       " 'business',\n",
       " 'entertainment',\n",
       " 'business',\n",
       " 'entertainment',\n",
       " 'business',\n",
       " 'tech',\n",
       " 'business',\n",
       " 'politics',\n",
       " 'sport',\n",
       " 'tech',\n",
       " 'sport',\n",
       " 'sport',\n",
       " 'sport',\n",
       " 'sport',\n",
       " 'sport',\n",
       " 'sport',\n",
       " 'politics',\n",
       " 'sport',\n",
       " 'politics',\n",
       " 'entertainment',\n",
       " 'business',\n",
       " 'sport',\n",
       " 'politics',\n",
       " 'sport',\n",
       " 'politics',\n",
       " 'entertainment',\n",
       " 'sport',\n",
       " 'business',\n",
       " 'entertainment',\n",
       " 'sport',\n",
       " 'politics',\n",
       " 'sport',\n",
       " 'politics',\n",
       " 'sport',\n",
       " 'politics',\n",
       " 'business',\n",
       " 'entertainment',\n",
       " 'business',\n",
       " 'entertainment',\n",
       " 'entertainment',\n",
       " 'tech',\n",
       " 'sport',\n",
       " 'business',\n",
       " 'entertainment',\n",
       " 'business',\n",
       " 'entertainment',\n",
       " 'business',\n",
       " 'politics',\n",
       " 'politics',\n",
       " 'tech',\n",
       " 'business',\n",
       " 'business',\n",
       " 'politics',\n",
       " 'tech',\n",
       " 'entertainment',\n",
       " 'sport',\n",
       " 'business',\n",
       " 'tech',\n",
       " 'sport',\n",
       " 'entertainment',\n",
       " 'politics',\n",
       " 'sport',\n",
       " 'sport',\n",
       " 'entertainment',\n",
       " 'entertainment',\n",
       " 'tech',\n",
       " 'business',\n",
       " 'tech',\n",
       " 'politics',\n",
       " 'entertainment',\n",
       " 'sport',\n",
       " 'sport',\n",
       " 'sport',\n",
       " 'sport',\n",
       " 'entertainment',\n",
       " 'tech',\n",
       " 'business',\n",
       " 'tech',\n",
       " 'business',\n",
       " 'tech',\n",
       " 'business',\n",
       " 'tech',\n",
       " 'entertainment',\n",
       " 'tech',\n",
       " 'tech',\n",
       " 'politics',\n",
       " 'business',\n",
       " 'politics',\n",
       " 'business',\n",
       " 'business',\n",
       " 'entertainment',\n",
       " 'politics',\n",
       " 'tech',\n",
       " 'business',\n",
       " 'business',\n",
       " 'tech',\n",
       " 'sport',\n",
       " 'politics',\n",
       " 'sport',\n",
       " 'politics',\n",
       " 'tech',\n",
       " 'tech',\n",
       " 'politics',\n",
       " 'business',\n",
       " 'politics',\n",
       " 'tech',\n",
       " 'politics',\n",
       " 'business',\n",
       " 'entertainment',\n",
       " 'sport',\n",
       " 'tech',\n",
       " 'tech',\n",
       " 'business',\n",
       " 'tech',\n",
       " 'politics',\n",
       " 'business',\n",
       " 'sport',\n",
       " 'politics',\n",
       " 'business',\n",
       " 'entertainment',\n",
       " 'business',\n",
       " 'business',\n",
       " 'sport',\n",
       " 'tech',\n",
       " 'business',\n",
       " 'sport',\n",
       " 'entertainment',\n",
       " 'entertainment',\n",
       " 'sport',\n",
       " 'entertainment',\n",
       " 'sport',\n",
       " 'tech',\n",
       " 'politics',\n",
       " 'entertainment',\n",
       " 'sport',\n",
       " 'entertainment',\n",
       " 'sport',\n",
       " 'entertainment',\n",
       " 'politics',\n",
       " 'business',\n",
       " 'tech',\n",
       " 'entertainment',\n",
       " 'business',\n",
       " 'politics',\n",
       " 'business',\n",
       " 'tech',\n",
       " 'business',\n",
       " 'sport',\n",
       " 'politics',\n",
       " 'politics',\n",
       " 'business',\n",
       " 'politics',\n",
       " 'sport',\n",
       " 'business',\n",
       " 'entertainment',\n",
       " 'politics',\n",
       " 'sport',\n",
       " 'politics',\n",
       " 'business',\n",
       " 'sport',\n",
       " 'tech',\n",
       " 'business',\n",
       " 'politics',\n",
       " 'business',\n",
       " 'politics',\n",
       " 'business',\n",
       " 'business',\n",
       " 'sport',\n",
       " 'tech',\n",
       " 'politics',\n",
       " 'entertainment',\n",
       " 'tech',\n",
       " 'entertainment',\n",
       " 'tech',\n",
       " 'sport',\n",
       " 'sport',\n",
       " 'tech',\n",
       " 'sport',\n",
       " 'sport',\n",
       " 'sport',\n",
       " 'entertainment',\n",
       " 'sport',\n",
       " 'politics',\n",
       " 'tech',\n",
       " 'business',\n",
       " 'sport',\n",
       " 'business',\n",
       " 'sport',\n",
       " 'business',\n",
       " 'sport',\n",
       " 'entertainment',\n",
       " 'business',\n",
       " 'business',\n",
       " 'entertainment',\n",
       " 'politics',\n",
       " 'business',\n",
       " 'sport',\n",
       " 'sport',\n",
       " 'tech',\n",
       " 'sport',\n",
       " 'sport',\n",
       " 'entertainment',\n",
       " 'business',\n",
       " 'sport',\n",
       " 'tech',\n",
       " 'politics',\n",
       " 'entertainment',\n",
       " 'business',\n",
       " 'business',\n",
       " 'politics',\n",
       " 'sport',\n",
       " 'entertainment',\n",
       " 'politics',\n",
       " 'business',\n",
       " 'sport',\n",
       " 'sport',\n",
       " 'tech',\n",
       " 'entertainment',\n",
       " 'sport',\n",
       " 'business',\n",
       " 'tech',\n",
       " 'business',\n",
       " 'sport',\n",
       " 'politics',\n",
       " 'politics',\n",
       " 'entertainment',\n",
       " 'politics',\n",
       " 'entertainment',\n",
       " 'politics',\n",
       " 'business',\n",
       " 'politics',\n",
       " 'tech',\n",
       " 'business',\n",
       " 'sport',\n",
       " 'tech',\n",
       " 'entertainment',\n",
       " 'politics',\n",
       " 'sport',\n",
       " 'politics',\n",
       " 'politics',\n",
       " 'tech',\n",
       " 'politics',\n",
       " 'sport',\n",
       " 'tech',\n",
       " 'politics',\n",
       " 'tech',\n",
       " 'tech',\n",
       " 'entertainment',\n",
       " 'business',\n",
       " 'tech',\n",
       " 'politics',\n",
       " 'business',\n",
       " 'politics',\n",
       " 'sport',\n",
       " 'tech',\n",
       " 'entertainment',\n",
       " 'entertainment',\n",
       " 'business',\n",
       " 'sport',\n",
       " 'tech',\n",
       " 'tech',\n",
       " 'entertainment',\n",
       " 'tech',\n",
       " 'business',\n",
       " 'sport',\n",
       " 'entertainment',\n",
       " 'tech',\n",
       " 'business',\n",
       " 'politics',\n",
       " 'tech',\n",
       " 'tech',\n",
       " 'politics',\n",
       " 'politics',\n",
       " 'sport',\n",
       " 'business',\n",
       " 'tech',\n",
       " 'sport',\n",
       " 'politics',\n",
       " 'politics',\n",
       " 'business',\n",
       " 'tech',\n",
       " 'sport',\n",
       " 'politics',\n",
       " 'business',\n",
       " 'politics',\n",
       " 'politics',\n",
       " 'tech',\n",
       " 'entertainment',\n",
       " 'business',\n",
       " 'business',\n",
       " 'sport',\n",
       " 'sport',\n",
       " 'sport',\n",
       " 'tech',\n",
       " 'sport',\n",
       " 'politics',\n",
       " 'tech',\n",
       " 'tech',\n",
       " 'politics',\n",
       " 'business',\n",
       " 'sport',\n",
       " 'sport',\n",
       " 'entertainment',\n",
       " 'entertainment',\n",
       " 'sport',\n",
       " 'tech',\n",
       " 'tech',\n",
       " 'sport',\n",
       " 'tech',\n",
       " 'entertainment',\n",
       " 'politics',\n",
       " 'tech',\n",
       " 'sport',\n",
       " 'business',\n",
       " 'politics',\n",
       " 'entertainment',\n",
       " 'business',\n",
       " 'tech',\n",
       " 'sport',\n",
       " 'politics',\n",
       " 'business',\n",
       " 'business',\n",
       " 'politics',\n",
       " 'tech',\n",
       " 'sport',\n",
       " 'entertainment',\n",
       " 'business',\n",
       " 'tech',\n",
       " 'business',\n",
       " 'tech',\n",
       " 'sport',\n",
       " 'sport',\n",
       " 'politics',\n",
       " 'business',\n",
       " 'tech',\n",
       " 'sport',\n",
       " 'politics',\n",
       " 'business',\n",
       " 'business',\n",
       " 'tech',\n",
       " 'politics',\n",
       " 'tech',\n",
       " 'business',\n",
       " 'politics',\n",
       " 'business',\n",
       " 'entertainment',\n",
       " 'business',\n",
       " 'entertainment',\n",
       " 'politics',\n",
       " 'entertainment',\n",
       " 'sport',\n",
       " 'business',\n",
       " 'politics',\n",
       " 'business',\n",
       " 'sport',\n",
       " 'entertainment',\n",
       " 'business',\n",
       " 'entertainment',\n",
       " 'entertainment',\n",
       " 'sport',\n",
       " 'tech',\n",
       " 'entertainment',\n",
       " 'business',\n",
       " 'business',\n",
       " 'politics',\n",
       " 'entertainment',\n",
       " 'politics',\n",
       " 'politics',\n",
       " 'sport',\n",
       " 'business',\n",
       " 'business',\n",
       " 'politics',\n",
       " 'entertainment',\n",
       " 'entertainment',\n",
       " 'business',\n",
       " 'business',\n",
       " 'sport',\n",
       " 'politics',\n",
       " 'tech',\n",
       " 'business',\n",
       " 'politics',\n",
       " 'business',\n",
       " 'sport',\n",
       " 'sport',\n",
       " 'politics',\n",
       " 'sport',\n",
       " 'tech',\n",
       " 'business',\n",
       " 'politics',\n",
       " 'sport',\n",
       " 'politics',\n",
       " 'tech',\n",
       " 'business',\n",
       " 'politics',\n",
       " 'tech',\n",
       " 'politics',\n",
       " 'politics',\n",
       " 'entertainment',\n",
       " 'tech',\n",
       " 'sport',\n",
       " 'sport',\n",
       " 'politics',\n",
       " 'business',\n",
       " 'tech',\n",
       " 'politics',\n",
       " 'sport',\n",
       " 'sport',\n",
       " 'entertainment',\n",
       " 'business',\n",
       " 'entertainment',\n",
       " 'entertainment',\n",
       " 'business',\n",
       " 'politics',\n",
       " 'sport',\n",
       " 'business',\n",
       " 'tech',\n",
       " 'tech',\n",
       " 'business',\n",
       " 'politics',\n",
       " 'sport',\n",
       " 'business',\n",
       " 'sport',\n",
       " 'business',\n",
       " 'politics',\n",
       " 'business',\n",
       " 'sport',\n",
       " 'politics',\n",
       " 'tech',\n",
       " 'sport',\n",
       " 'politics',\n",
       " 'business',\n",
       " 'tech',\n",
       " 'politics',\n",
       " 'sport',\n",
       " 'politics',\n",
       " 'entertainment',\n",
       " 'sport',\n",
       " 'politics',\n",
       " 'business',\n",
       " 'business',\n",
       " 'business',\n",
       " 'tech',\n",
       " 'politics',\n",
       " 'politics',\n",
       " 'sport',\n",
       " 'business',\n",
       " 'tech',\n",
       " 'tech',\n",
       " 'tech',\n",
       " 'sport',\n",
       " 'tech',\n",
       " 'politics',\n",
       " 'business',\n",
       " 'business',\n",
       " 'sport',\n",
       " 'entertainment',\n",
       " 'politics',\n",
       " 'business',\n",
       " 'tech',\n",
       " 'tech',\n",
       " 'sport',\n",
       " 'tech',\n",
       " 'business',\n",
       " 'sport',\n",
       " 'business',\n",
       " 'business',\n",
       " 'business',\n",
       " 'politics',\n",
       " 'politics',\n",
       " 'entertainment',\n",
       " 'entertainment',\n",
       " 'entertainment',\n",
       " 'politics',\n",
       " 'tech',\n",
       " 'tech',\n",
       " 'politics',\n",
       " 'entertainment',\n",
       " 'business',\n",
       " 'sport',\n",
       " 'sport',\n",
       " 'politics',\n",
       " 'entertainment',\n",
       " 'politics',\n",
       " 'sport',\n",
       " 'business',\n",
       " 'business',\n",
       " 'business',\n",
       " 'entertainment',\n",
       " 'tech',\n",
       " 'sport',\n",
       " 'business',\n",
       " 'politics',\n",
       " 'politics',\n",
       " 'tech',\n",
       " 'politics',\n",
       " 'sport',\n",
       " 'politics',\n",
       " 'business',\n",
       " 'tech',\n",
       " 'business',\n",
       " 'sport',\n",
       " 'sport',\n",
       " 'tech',\n",
       " 'sport',\n",
       " 'entertainment',\n",
       " 'tech',\n",
       " 'entertainment',\n",
       " 'tech',\n",
       " 'sport',\n",
       " 'politics',\n",
       " 'business',\n",
       " 'tech',\n",
       " 'politics',\n",
       " 'entertainment',\n",
       " 'entertainment',\n",
       " 'politics',\n",
       " 'business',\n",
       " 'business',\n",
       " 'tech',\n",
       " 'business',\n",
       " 'business',\n",
       " 'business',\n",
       " 'sport',\n",
       " 'entertainment',\n",
       " 'business',\n",
       " 'sport',\n",
       " 'business',\n",
       " 'sport',\n",
       " 'tech',\n",
       " 'business',\n",
       " 'politics',\n",
       " 'sport',\n",
       " 'business',\n",
       " 'sport',\n",
       " 'sport',\n",
       " 'entertainment',\n",
       " 'politics',\n",
       " 'tech',\n",
       " 'sport',\n",
       " 'business',\n",
       " 'sport',\n",
       " 'business',\n",
       " 'sport',\n",
       " 'sport',\n",
       " 'politics',\n",
       " 'tech',\n",
       " 'business',\n",
       " 'tech',\n",
       " 'business',\n",
       " 'sport',\n",
       " 'tech',\n",
       " 'business',\n",
       " 'entertainment',\n",
       " 'business',\n",
       " 'entertainment',\n",
       " 'sport',\n",
       " 'tech',\n",
       " 'business',\n",
       " 'business',\n",
       " 'business',\n",
       " 'politics',\n",
       " 'sport',\n",
       " 'entertainment',\n",
       " 'tech',\n",
       " 'business',\n",
       " 'sport',\n",
       " 'entertainment',\n",
       " 'business',\n",
       " 'entertainment',\n",
       " 'business',\n",
       " 'politics',\n",
       " 'sport',\n",
       " 'sport',\n",
       " 'business',\n",
       " 'tech',\n",
       " 'sport',\n",
       " 'business',\n",
       " 'business',\n",
       " 'business',\n",
       " 'business',\n",
       " 'business',\n",
       " 'entertainment',\n",
       " 'tech',\n",
       " 'sport',\n",
       " 'politics',\n",
       " 'tech',\n",
       " 'politics',\n",
       " 'tech',\n",
       " 'sport',\n",
       " 'tech',\n",
       " 'entertainment',\n",
       " 'business',\n",
       " 'business',\n",
       " 'entertainment',\n",
       " 'politics',\n",
       " 'sport',\n",
       " 'sport',\n",
       " 'sport',\n",
       " 'entertainment',\n",
       " 'tech',\n",
       " 'politics',\n",
       " 'entertainment',\n",
       " 'sport',\n",
       " 'sport',\n",
       " 'politics',\n",
       " 'tech',\n",
       " 'politics',\n",
       " 'entertainment',\n",
       " 'sport',\n",
       " 'entertainment',\n",
       " 'sport',\n",
       " 'tech',\n",
       " 'tech',\n",
       " 'sport',\n",
       " 'sport',\n",
       " 'business',\n",
       " 'tech',\n",
       " 'entertainment',\n",
       " 'business',\n",
       " 'tech',\n",
       " 'business',\n",
       " 'business',\n",
       " 'sport',\n",
       " 'entertainment',\n",
       " 'politics',\n",
       " 'entertainment',\n",
       " 'business',\n",
       " 'politics',\n",
       " 'business',\n",
       " 'politics',\n",
       " 'sport',\n",
       " 'tech',\n",
       " 'tech',\n",
       " 'politics',\n",
       " 'entertainment',\n",
       " 'business',\n",
       " 'tech',\n",
       " 'entertainment',\n",
       " 'entertainment',\n",
       " 'politics',\n",
       " 'business',\n",
       " 'business',\n",
       " 'politics',\n",
       " 'politics',\n",
       " 'tech',\n",
       " 'sport',\n",
       " 'business',\n",
       " 'entertainment',\n",
       " 'politics',\n",
       " 'business',\n",
       " 'politics']"
      ]
     },
     "execution_count": 45,
     "metadata": {},
     "output_type": "execute_result"
    }
   ],
   "source": [
    "Y_pred_name"
   ]
  },
  {
   "cell_type": "code",
   "execution_count": 46,
   "metadata": {
    "collapsed": true
   },
   "outputs": [],
   "source": [
    "#Create Submission Dataframe\n",
    "submission = pd.DataFrame({\n",
    "        \"ArticleId\": test_df[\"ArticleId\"],\n",
    "        \"Category\": Y_pred_name\n",
    "    })"
   ]
  },
  {
   "cell_type": "code",
   "execution_count": 47,
   "metadata": {
    "collapsed": true
   },
   "outputs": [],
   "source": [
    "# Convert submission dataframe to csv \n",
    "# you could use any filename. We choose submission here\n",
    "submission.to_csv('submission.csv', index=False)"
   ]
  },
  {
   "cell_type": "code",
   "execution_count": null,
   "metadata": {
    "collapsed": true
   },
   "outputs": [],
   "source": []
  }
 ],
 "metadata": {
  "kernelspec": {
   "display_name": "Python 3",
   "language": "python",
   "name": "python3"
  },
  "language_info": {
   "codemirror_mode": {
    "name": "ipython",
    "version": 3
   },
   "file_extension": ".py",
   "mimetype": "text/x-python",
   "name": "python",
   "nbconvert_exporter": "python",
   "pygments_lexer": "ipython3",
   "version": "3.6.3"
  }
 },
 "nbformat": 4,
 "nbformat_minor": 2
}
